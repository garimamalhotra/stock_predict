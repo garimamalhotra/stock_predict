{
 "cells": [
  {
   "cell_type": "code",
   "execution_count": 1,
   "metadata": {},
   "outputs": [],
   "source": [
    "#Project Title : Predicting Stock Market using Traditional and Alternative Data\n",
    "\n",
    "# The Goal of this Project is to identify the drivers of the stock exchange values of different companies, and build \n",
    "# a predictor to predict stock prices over a long term.\n",
    "\n",
    "# I want to build a predictor that takes into account the \n",
    "    #1. Hiring, and popularity of companies using Linkedin data provided by Thinknum\n",
    "    #2. Past values of stocks \n",
    "    #3. Public Sentiment of CEOs using tweets scraped from Twitter\n",
    "    #4. Employee sentiment using reviews scraped from Glassdoor - This can help us in understanding the health of a \n",
    "    #   particular company beforehand. - Pending for the Final Capstone Project\n",
    "    #5. Weather Data provided by NOAA - Pending for the Final Capstone Project\n",
    "    #6. More Sentiment Analysis of the geopolitical news around the country\n",
    "    \n",
    "    #7. Traditional stock market predictors like oil prices, international stock market prices - Pending for the Final Capstone Project\n",
    "\n",
    "#WorkFlow in This NOTEBOOK : \n",
    "# 1. Get the Linkedin data from ThinkNum between 2015 and 2018\n",
    "# 2. Get the S&P 500 Stocks data from https://www.kaggle.com/camnugent/sandp500\n",
    "# 3. Scrape Google to get the complete company names for the symbols in the Stocks Data as Linkedin Data has full company names\n",
    "# 4. Using full company names, find the companies that are common between the above two datasets.\n",
    "# 4. Scrape Google to get the the CEO's of each of these companies and their Twitter handle.\n",
    "# 5. Using Twitter API, download all the tweets of the CEOs.\n",
    "# 5. Perform a sentiment analysis of all the tweets between 2015 and 2018 and create a timeline.\n",
    "# 6. Analyze the stocks, company growth and sentiments of the CEOs.\n",
    "\n",
    "# More Thoughts :\n",
    "# 1. I am also interested in understanding the correlation between different industries and how they drive each \n",
    "# other's stock prices.\n",
    "\n",
    "# 2. This will help us in understanding which companies' stocks depend more on alternative data, for example, a popular\n",
    "# CEO will have larger influencing in driving the stock prices.\n",
    "    \n",
    "# 2. The analysis will span a time period of 3 years, 2015-2018 for companies across different industries \n",
    "# \n",
    "# 3. While working on this project, I will be looking for more datasets that can help in improving this predictor."
   ]
  },
  {
   "cell_type": "code",
   "execution_count": 2,
   "metadata": {},
   "outputs": [
    {
     "name": "stdout",
     "output_type": "stream",
     "text": [
      "Requirement already satisfied: pyquery in /usr/local/lib/python3.7/site-packages (1.4.1)\n",
      "Requirement already satisfied: cssselect>0.7.9 in /usr/local/lib/python3.7/site-packages (from pyquery) (1.1.0)\n",
      "Requirement already satisfied: lxml>=2.1 in /usr/local/lib/python3.7/site-packages (from pyquery) (4.5.2)\n"
     ]
    }
   ],
   "source": [
    "import pandas as pd\n",
    "import numpy as np\n",
    "import ipdb\n",
    "import matplotlib.pyplot as plt\n",
    "import re\n",
    "from bokeh.plotting import figure, show, output_file, output_notebook\n",
    "from bokeh.palettes import Spectral11, colorblind, Inferno, BuGn, brewer\n",
    "from bokeh.models import HoverTool, value, LabelSet, Legend, ColumnDataSource,\\\n",
    "LinearColorMapper,BasicTicker, PrintfTickFormatter, ColorBar, Dropdown, Select, CustomJS,RadioGroup \n",
    "from bokeh.io import curdoc\n",
    "from bokeh.layouts import column, gridplot \n",
    "import datetime as dt\n",
    "from bs4 import BeautifulSoup\n",
    "from selenium import webdriver \n",
    "import time\n",
    "import os\n",
    "import requests\n",
    "from textblob import TextBlob\n",
    "!pip install pyquery"
   ]
  },
  {
   "cell_type": "code",
   "execution_count": 3,
   "metadata": {},
   "outputs": [
    {
     "data": {
      "text/plain": [
       "'1.4.0'"
      ]
     },
     "execution_count": 3,
     "metadata": {},
     "output_type": "execute_result"
    }
   ],
   "source": [
    "import bokeh\n",
    "bokeh.__version__"
   ]
  },
  {
   "cell_type": "code",
   "execution_count": 4,
   "metadata": {},
   "outputs": [
    {
     "name": "stderr",
     "output_type": "stream",
     "text": [
      "/usr/local/lib/python3.7/site-packages/IPython/core/interactiveshell.py:3058: DtypeWarning: Columns (9,10) have mixed types. Specify dtype option on import or set low_memory=False.\n",
      "  interactivity=interactivity, compiler=compiler, result=result)\n"
     ]
    }
   ],
   "source": [
    "#Loading the ThinkNum Data\n",
    "df_linkedin=pd.read_csv('temp_datalab_records_linkedin_company.csv')\n",
    "relevant_columns=['as_of_date','company_name','followers_count','employees_on_platform','industry']\n",
    "df_lnkd=df_linkedin[relevant_columns]"
   ]
  },
  {
   "cell_type": "code",
   "execution_count": 5,
   "metadata": {},
   "outputs": [],
   "source": [
    "#Loading the Stocks Data from https://www.kaggle.com/camnugent/sandp500\n",
    "df_stocks=pd.read_csv('all_stocks_5yr.csv')"
   ]
  },
  {
   "cell_type": "code",
   "execution_count": 6,
   "metadata": {},
   "outputs": [
    {
     "data": {
      "text/html": [
       "<div>\n",
       "<style scoped>\n",
       "    .dataframe tbody tr th:only-of-type {\n",
       "        vertical-align: middle;\n",
       "    }\n",
       "\n",
       "    .dataframe tbody tr th {\n",
       "        vertical-align: top;\n",
       "    }\n",
       "\n",
       "    .dataframe thead th {\n",
       "        text-align: right;\n",
       "    }\n",
       "</style>\n",
       "<table border=\"1\" class=\"dataframe\">\n",
       "  <thead>\n",
       "    <tr style=\"text-align: right;\">\n",
       "      <th></th>\n",
       "      <th>date</th>\n",
       "      <th>open</th>\n",
       "      <th>high</th>\n",
       "      <th>low</th>\n",
       "      <th>close</th>\n",
       "      <th>volume</th>\n",
       "      <th>Name</th>\n",
       "    </tr>\n",
       "  </thead>\n",
       "  <tbody>\n",
       "    <tr>\n",
       "      <th>0</th>\n",
       "      <td>2013-02-08</td>\n",
       "      <td>15.07</td>\n",
       "      <td>15.12</td>\n",
       "      <td>14.63</td>\n",
       "      <td>14.75</td>\n",
       "      <td>8407500</td>\n",
       "      <td>AAL</td>\n",
       "    </tr>\n",
       "    <tr>\n",
       "      <th>1</th>\n",
       "      <td>2013-02-11</td>\n",
       "      <td>14.89</td>\n",
       "      <td>15.01</td>\n",
       "      <td>14.26</td>\n",
       "      <td>14.46</td>\n",
       "      <td>8882000</td>\n",
       "      <td>AAL</td>\n",
       "    </tr>\n",
       "    <tr>\n",
       "      <th>2</th>\n",
       "      <td>2013-02-12</td>\n",
       "      <td>14.45</td>\n",
       "      <td>14.51</td>\n",
       "      <td>14.10</td>\n",
       "      <td>14.27</td>\n",
       "      <td>8126000</td>\n",
       "      <td>AAL</td>\n",
       "    </tr>\n",
       "    <tr>\n",
       "      <th>3</th>\n",
       "      <td>2013-02-13</td>\n",
       "      <td>14.30</td>\n",
       "      <td>14.94</td>\n",
       "      <td>14.25</td>\n",
       "      <td>14.66</td>\n",
       "      <td>10259500</td>\n",
       "      <td>AAL</td>\n",
       "    </tr>\n",
       "    <tr>\n",
       "      <th>4</th>\n",
       "      <td>2013-02-14</td>\n",
       "      <td>14.94</td>\n",
       "      <td>14.96</td>\n",
       "      <td>13.16</td>\n",
       "      <td>13.99</td>\n",
       "      <td>31879900</td>\n",
       "      <td>AAL</td>\n",
       "    </tr>\n",
       "  </tbody>\n",
       "</table>\n",
       "</div>"
      ],
      "text/plain": [
       "         date   open   high    low  close    volume Name\n",
       "0  2013-02-08  15.07  15.12  14.63  14.75   8407500  AAL\n",
       "1  2013-02-11  14.89  15.01  14.26  14.46   8882000  AAL\n",
       "2  2013-02-12  14.45  14.51  14.10  14.27   8126000  AAL\n",
       "3  2013-02-13  14.30  14.94  14.25  14.66  10259500  AAL\n",
       "4  2013-02-14  14.94  14.96  13.16  13.99  31879900  AAL"
      ]
     },
     "execution_count": 6,
     "metadata": {},
     "output_type": "execute_result"
    }
   ],
   "source": [
    "df_stocks.head(5)"
   ]
  },
  {
   "cell_type": "code",
   "execution_count": 7,
   "metadata": {},
   "outputs": [
    {
     "data": {
      "text/html": [
       "<div>\n",
       "<style scoped>\n",
       "    .dataframe tbody tr th:only-of-type {\n",
       "        vertical-align: middle;\n",
       "    }\n",
       "\n",
       "    .dataframe tbody tr th {\n",
       "        vertical-align: top;\n",
       "    }\n",
       "\n",
       "    .dataframe thead th {\n",
       "        text-align: right;\n",
       "    }\n",
       "</style>\n",
       "<table border=\"1\" class=\"dataframe\">\n",
       "  <thead>\n",
       "    <tr style=\"text-align: right;\">\n",
       "      <th></th>\n",
       "      <th>open</th>\n",
       "      <th>high</th>\n",
       "      <th>low</th>\n",
       "      <th>close</th>\n",
       "      <th>volume</th>\n",
       "    </tr>\n",
       "  </thead>\n",
       "  <tbody>\n",
       "    <tr>\n",
       "      <th>count</th>\n",
       "      <td>619029.000000</td>\n",
       "      <td>619032.000000</td>\n",
       "      <td>619032.000000</td>\n",
       "      <td>619040.000000</td>\n",
       "      <td>6.190400e+05</td>\n",
       "    </tr>\n",
       "    <tr>\n",
       "      <th>mean</th>\n",
       "      <td>83.023334</td>\n",
       "      <td>83.778311</td>\n",
       "      <td>82.256096</td>\n",
       "      <td>83.043763</td>\n",
       "      <td>4.321823e+06</td>\n",
       "    </tr>\n",
       "    <tr>\n",
       "      <th>std</th>\n",
       "      <td>97.378769</td>\n",
       "      <td>98.207519</td>\n",
       "      <td>96.507421</td>\n",
       "      <td>97.389748</td>\n",
       "      <td>8.693610e+06</td>\n",
       "    </tr>\n",
       "    <tr>\n",
       "      <th>min</th>\n",
       "      <td>1.620000</td>\n",
       "      <td>1.690000</td>\n",
       "      <td>1.500000</td>\n",
       "      <td>1.590000</td>\n",
       "      <td>0.000000e+00</td>\n",
       "    </tr>\n",
       "    <tr>\n",
       "      <th>25%</th>\n",
       "      <td>40.220000</td>\n",
       "      <td>40.620000</td>\n",
       "      <td>39.830000</td>\n",
       "      <td>40.245000</td>\n",
       "      <td>1.070320e+06</td>\n",
       "    </tr>\n",
       "    <tr>\n",
       "      <th>50%</th>\n",
       "      <td>62.590000</td>\n",
       "      <td>63.150000</td>\n",
       "      <td>62.020000</td>\n",
       "      <td>62.620000</td>\n",
       "      <td>2.082094e+06</td>\n",
       "    </tr>\n",
       "    <tr>\n",
       "      <th>75%</th>\n",
       "      <td>94.370000</td>\n",
       "      <td>95.180000</td>\n",
       "      <td>93.540000</td>\n",
       "      <td>94.410000</td>\n",
       "      <td>4.284509e+06</td>\n",
       "    </tr>\n",
       "    <tr>\n",
       "      <th>max</th>\n",
       "      <td>2044.000000</td>\n",
       "      <td>2067.990000</td>\n",
       "      <td>2035.110000</td>\n",
       "      <td>2049.000000</td>\n",
       "      <td>6.182376e+08</td>\n",
       "    </tr>\n",
       "  </tbody>\n",
       "</table>\n",
       "</div>"
      ],
      "text/plain": [
       "                open           high            low          close  \\\n",
       "count  619029.000000  619032.000000  619032.000000  619040.000000   \n",
       "mean       83.023334      83.778311      82.256096      83.043763   \n",
       "std        97.378769      98.207519      96.507421      97.389748   \n",
       "min         1.620000       1.690000       1.500000       1.590000   \n",
       "25%        40.220000      40.620000      39.830000      40.245000   \n",
       "50%        62.590000      63.150000      62.020000      62.620000   \n",
       "75%        94.370000      95.180000      93.540000      94.410000   \n",
       "max      2044.000000    2067.990000    2035.110000    2049.000000   \n",
       "\n",
       "             volume  \n",
       "count  6.190400e+05  \n",
       "mean   4.321823e+06  \n",
       "std    8.693610e+06  \n",
       "min    0.000000e+00  \n",
       "25%    1.070320e+06  \n",
       "50%    2.082094e+06  \n",
       "75%    4.284509e+06  \n",
       "max    6.182376e+08  "
      ]
     },
     "execution_count": 7,
     "metadata": {},
     "output_type": "execute_result"
    }
   ],
   "source": [
    "df_stocks.describe()"
   ]
  },
  {
   "cell_type": "code",
   "execution_count": 8,
   "metadata": {},
   "outputs": [
    {
     "data": {
      "text/plain": [
       "(2426196, 5)"
      ]
     },
     "execution_count": 8,
     "metadata": {},
     "output_type": "execute_result"
    }
   ],
   "source": [
    "df_lnkd.shape"
   ]
  },
  {
   "cell_type": "code",
   "execution_count": 9,
   "metadata": {},
   "outputs": [
    {
     "data": {
      "text/html": [
       "<div>\n",
       "<style scoped>\n",
       "    .dataframe tbody tr th:only-of-type {\n",
       "        vertical-align: middle;\n",
       "    }\n",
       "\n",
       "    .dataframe tbody tr th {\n",
       "        vertical-align: top;\n",
       "    }\n",
       "\n",
       "    .dataframe thead th {\n",
       "        text-align: right;\n",
       "    }\n",
       "</style>\n",
       "<table border=\"1\" class=\"dataframe\">\n",
       "  <thead>\n",
       "    <tr style=\"text-align: right;\">\n",
       "      <th></th>\n",
       "      <th>as_of_date</th>\n",
       "      <th>company_name</th>\n",
       "      <th>followers_count</th>\n",
       "      <th>employees_on_platform</th>\n",
       "      <th>industry</th>\n",
       "    </tr>\n",
       "  </thead>\n",
       "  <tbody>\n",
       "    <tr>\n",
       "      <th>0</th>\n",
       "      <td>2015-09-14</td>\n",
       "      <td>Goldman Sachs</td>\n",
       "      <td>552254</td>\n",
       "      <td>38124</td>\n",
       "      <td>Investment Banking</td>\n",
       "    </tr>\n",
       "    <tr>\n",
       "      <th>1</th>\n",
       "      <td>2015-09-15</td>\n",
       "      <td>Goldman Sachs</td>\n",
       "      <td>552862</td>\n",
       "      <td>38141</td>\n",
       "      <td>Investment Banking</td>\n",
       "    </tr>\n",
       "    <tr>\n",
       "      <th>2</th>\n",
       "      <td>2015-09-16</td>\n",
       "      <td>United Technologies</td>\n",
       "      <td>59157</td>\n",
       "      <td>14982</td>\n",
       "      <td>Aviation &amp; Aerospace</td>\n",
       "    </tr>\n",
       "    <tr>\n",
       "      <th>3</th>\n",
       "      <td>2015-09-16</td>\n",
       "      <td>Novo Nordisk</td>\n",
       "      <td>336175</td>\n",
       "      <td>26448</td>\n",
       "      <td>Pharmaceuticals</td>\n",
       "    </tr>\n",
       "    <tr>\n",
       "      <th>4</th>\n",
       "      <td>2015-09-16</td>\n",
       "      <td>Lowe's Companies, Inc.</td>\n",
       "      <td>134255</td>\n",
       "      <td>62574</td>\n",
       "      <td>Retail</td>\n",
       "    </tr>\n",
       "  </tbody>\n",
       "</table>\n",
       "</div>"
      ],
      "text/plain": [
       "   as_of_date            company_name  followers_count  employees_on_platform  \\\n",
       "0  2015-09-14           Goldman Sachs           552254                  38124   \n",
       "1  2015-09-15           Goldman Sachs           552862                  38141   \n",
       "2  2015-09-16     United Technologies            59157                  14982   \n",
       "3  2015-09-16            Novo Nordisk           336175                  26448   \n",
       "4  2015-09-16  Lowe's Companies, Inc.           134255                  62574   \n",
       "\n",
       "               industry  \n",
       "0    Investment Banking  \n",
       "1    Investment Banking  \n",
       "2  Aviation & Aerospace  \n",
       "3       Pharmaceuticals  \n",
       "4                Retail  "
      ]
     },
     "execution_count": 9,
     "metadata": {},
     "output_type": "execute_result"
    }
   ],
   "source": [
    "df_lnkd.head()"
   ]
  },
  {
   "cell_type": "code",
   "execution_count": 10,
   "metadata": {},
   "outputs": [
    {
     "data": {
      "text/html": [
       "<div>\n",
       "<style scoped>\n",
       "    .dataframe tbody tr th:only-of-type {\n",
       "        vertical-align: middle;\n",
       "    }\n",
       "\n",
       "    .dataframe tbody tr th {\n",
       "        vertical-align: top;\n",
       "    }\n",
       "\n",
       "    .dataframe thead th {\n",
       "        text-align: right;\n",
       "    }\n",
       "</style>\n",
       "<table border=\"1\" class=\"dataframe\">\n",
       "  <thead>\n",
       "    <tr style=\"text-align: right;\">\n",
       "      <th></th>\n",
       "      <th>followers_count</th>\n",
       "      <th>employees_on_platform</th>\n",
       "    </tr>\n",
       "  </thead>\n",
       "  <tbody>\n",
       "    <tr>\n",
       "      <th>count</th>\n",
       "      <td>2.426196e+06</td>\n",
       "      <td>2.426196e+06</td>\n",
       "    </tr>\n",
       "    <tr>\n",
       "      <th>mean</th>\n",
       "      <td>7.167738e+04</td>\n",
       "      <td>7.587255e+03</td>\n",
       "    </tr>\n",
       "    <tr>\n",
       "      <th>std</th>\n",
       "      <td>2.638344e+05</td>\n",
       "      <td>2.412444e+04</td>\n",
       "    </tr>\n",
       "    <tr>\n",
       "      <th>min</th>\n",
       "      <td>0.000000e+00</td>\n",
       "      <td>0.000000e+00</td>\n",
       "    </tr>\n",
       "    <tr>\n",
       "      <th>25%</th>\n",
       "      <td>2.148000e+03</td>\n",
       "      <td>2.180000e+02</td>\n",
       "    </tr>\n",
       "    <tr>\n",
       "      <th>50%</th>\n",
       "      <td>9.335000e+03</td>\n",
       "      <td>1.083000e+03</td>\n",
       "    </tr>\n",
       "    <tr>\n",
       "      <th>75%</th>\n",
       "      <td>3.864200e+04</td>\n",
       "      <td>4.513000e+03</td>\n",
       "    </tr>\n",
       "    <tr>\n",
       "      <th>max</th>\n",
       "      <td>7.833967e+06</td>\n",
       "      <td>5.779520e+05</td>\n",
       "    </tr>\n",
       "  </tbody>\n",
       "</table>\n",
       "</div>"
      ],
      "text/plain": [
       "       followers_count  employees_on_platform\n",
       "count     2.426196e+06           2.426196e+06\n",
       "mean      7.167738e+04           7.587255e+03\n",
       "std       2.638344e+05           2.412444e+04\n",
       "min       0.000000e+00           0.000000e+00\n",
       "25%       2.148000e+03           2.180000e+02\n",
       "50%       9.335000e+03           1.083000e+03\n",
       "75%       3.864200e+04           4.513000e+03\n",
       "max       7.833967e+06           5.779520e+05"
      ]
     },
     "execution_count": 10,
     "metadata": {},
     "output_type": "execute_result"
    }
   ],
   "source": [
    "df_lnkd.describe()"
   ]
  },
  {
   "cell_type": "code",
   "execution_count": 11,
   "metadata": {},
   "outputs": [
    {
     "data": {
      "text/plain": [
       "(5028,)"
      ]
     },
     "execution_count": 11,
     "metadata": {},
     "output_type": "execute_result"
    }
   ],
   "source": [
    "#Number of unique company names\n",
    "from wordcloud import WordCloud\n",
    "df_lnkd.company_name.unique().shape"
   ]
  },
  {
   "cell_type": "code",
   "execution_count": 12,
   "metadata": {
    "scrolled": true
   },
   "outputs": [
    {
     "data": {
      "text/plain": [
       "(141,)"
      ]
     },
     "execution_count": 12,
     "metadata": {},
     "output_type": "execute_result"
    }
   ],
   "source": [
    "#Number of unique industry names\n",
    "industry=df_lnkd.industry.unique().shape\n",
    "industry"
   ]
  },
  {
   "cell_type": "code",
   "execution_count": 13,
   "metadata": {},
   "outputs": [
    {
     "name": "stderr",
     "output_type": "stream",
     "text": [
      "/usr/local/lib/python3.7/site-packages/ipykernel_launcher.py:1: SettingWithCopyWarning: \n",
      "A value is trying to be set on a copy of a slice from a DataFrame.\n",
      "Try using .loc[row_indexer,col_indexer] = value instead\n",
      "\n",
      "See the caveats in the documentation: http://pandas.pydata.org/pandas-docs/stable/user_guide/indexing.html#returning-a-view-versus-a-copy\n",
      "  \"\"\"Entry point for launching an IPython kernel.\n"
     ]
    }
   ],
   "source": [
    "df_lnkd['as_of_date']=pd.to_datetime(df_lnkd['as_of_date'])"
   ]
  },
  {
   "cell_type": "code",
   "execution_count": 14,
   "metadata": {},
   "outputs": [
    {
     "data": {
      "text/plain": [
       "Timestamp('2015-09-14 00:00:00')"
      ]
     },
     "execution_count": 14,
     "metadata": {},
     "output_type": "execute_result"
    }
   ],
   "source": [
    "min(df_lnkd['as_of_date'])"
   ]
  },
  {
   "cell_type": "code",
   "execution_count": 15,
   "metadata": {},
   "outputs": [
    {
     "data": {
      "text/plain": [
       "Timestamp('2018-07-17 00:00:00')"
      ]
     },
     "execution_count": 15,
     "metadata": {},
     "output_type": "execute_result"
    }
   ],
   "source": [
    "max(df_lnkd['as_of_date'])"
   ]
  },
  {
   "cell_type": "code",
   "execution_count": 16,
   "metadata": {},
   "outputs": [
    {
     "data": {
      "text/html": [
       "<div>\n",
       "<style scoped>\n",
       "    .dataframe tbody tr th:only-of-type {\n",
       "        vertical-align: middle;\n",
       "    }\n",
       "\n",
       "    .dataframe tbody tr th {\n",
       "        vertical-align: top;\n",
       "    }\n",
       "\n",
       "    .dataframe thead th {\n",
       "        text-align: right;\n",
       "    }\n",
       "</style>\n",
       "<table border=\"1\" class=\"dataframe\">\n",
       "  <thead>\n",
       "    <tr style=\"text-align: right;\">\n",
       "      <th></th>\n",
       "      <th>industry</th>\n",
       "      <th>followers_count</th>\n",
       "      <th>employees_on_platform</th>\n",
       "    </tr>\n",
       "  </thead>\n",
       "  <tbody>\n",
       "    <tr>\n",
       "      <th>62</th>\n",
       "      <td>Information Technology and Services</td>\n",
       "      <td>19775577695</td>\n",
       "      <td>2383349091</td>\n",
       "    </tr>\n",
       "    <tr>\n",
       "      <th>65</th>\n",
       "      <td>Internet</td>\n",
       "      <td>15889193478</td>\n",
       "      <td>540464477</td>\n",
       "    </tr>\n",
       "    <tr>\n",
       "      <th>40</th>\n",
       "      <td>Financial Services</td>\n",
       "      <td>10208046449</td>\n",
       "      <td>1701931846</td>\n",
       "    </tr>\n",
       "    <tr>\n",
       "      <th>93</th>\n",
       "      <td>Oil &amp; Energy</td>\n",
       "      <td>10078940736</td>\n",
       "      <td>609859377</td>\n",
       "    </tr>\n",
       "    <tr>\n",
       "      <th>21</th>\n",
       "      <td>Computer Software</td>\n",
       "      <td>9387919641</td>\n",
       "      <td>490204437</td>\n",
       "    </tr>\n",
       "    <tr>\n",
       "      <th>101</th>\n",
       "      <td>Pharmaceuticals</td>\n",
       "      <td>7323159940</td>\n",
       "      <td>645660609</td>\n",
       "    </tr>\n",
       "    <tr>\n",
       "      <th>119</th>\n",
       "      <td>Retail</td>\n",
       "      <td>6762282982</td>\n",
       "      <td>1424502315</td>\n",
       "    </tr>\n",
       "    <tr>\n",
       "      <th>24</th>\n",
       "      <td>Consumer Goods</td>\n",
       "      <td>6496724677</td>\n",
       "      <td>404053850</td>\n",
       "    </tr>\n",
       "    <tr>\n",
       "      <th>4</th>\n",
       "      <td>Automotive</td>\n",
       "      <td>4992425224</td>\n",
       "      <td>531717088</td>\n",
       "    </tr>\n",
       "    <tr>\n",
       "      <th>7</th>\n",
       "      <td>Banking</td>\n",
       "      <td>4341912352</td>\n",
       "      <td>961924799</td>\n",
       "    </tr>\n",
       "  </tbody>\n",
       "</table>\n",
       "</div>"
      ],
      "text/plain": [
       "                                industry  followers_count  \\\n",
       "62   Information Technology and Services      19775577695   \n",
       "65                              Internet      15889193478   \n",
       "40                    Financial Services      10208046449   \n",
       "93                          Oil & Energy      10078940736   \n",
       "21                     Computer Software       9387919641   \n",
       "101                      Pharmaceuticals       7323159940   \n",
       "119                               Retail       6762282982   \n",
       "24                        Consumer Goods       6496724677   \n",
       "4                             Automotive       4992425224   \n",
       "7                                Banking       4341912352   \n",
       "\n",
       "     employees_on_platform  \n",
       "62              2383349091  \n",
       "65               540464477  \n",
       "40              1701931846  \n",
       "93               609859377  \n",
       "21               490204437  \n",
       "101              645660609  \n",
       "119             1424502315  \n",
       "24               404053850  \n",
       "4                531717088  \n",
       "7                961924799  "
      ]
     },
     "execution_count": 16,
     "metadata": {},
     "output_type": "execute_result"
    }
   ],
   "source": [
    "#Industries with the Largest Followers\n",
    "\n",
    "grouped=df_lnkd.groupby('industry').sum().reset_index()\n",
    "grouped.sort_values('followers_count', ascending=False).head(10)"
   ]
  },
  {
   "cell_type": "code",
   "execution_count": 17,
   "metadata": {},
   "outputs": [
    {
     "data": {
      "text/html": [
       "<div>\n",
       "<style scoped>\n",
       "    .dataframe tbody tr th:only-of-type {\n",
       "        vertical-align: middle;\n",
       "    }\n",
       "\n",
       "    .dataframe tbody tr th {\n",
       "        vertical-align: top;\n",
       "    }\n",
       "\n",
       "    .dataframe thead th {\n",
       "        text-align: right;\n",
       "    }\n",
       "</style>\n",
       "<table border=\"1\" class=\"dataframe\">\n",
       "  <thead>\n",
       "    <tr style=\"text-align: right;\">\n",
       "      <th></th>\n",
       "      <th>industry</th>\n",
       "      <th>followers_count</th>\n",
       "      <th>employees_on_platform</th>\n",
       "    </tr>\n",
       "  </thead>\n",
       "  <tbody>\n",
       "    <tr>\n",
       "      <th>62</th>\n",
       "      <td>Information Technology and Services</td>\n",
       "      <td>19775577695</td>\n",
       "      <td>2383349091</td>\n",
       "    </tr>\n",
       "    <tr>\n",
       "      <th>40</th>\n",
       "      <td>Financial Services</td>\n",
       "      <td>10208046449</td>\n",
       "      <td>1701931846</td>\n",
       "    </tr>\n",
       "    <tr>\n",
       "      <th>119</th>\n",
       "      <td>Retail</td>\n",
       "      <td>6762282982</td>\n",
       "      <td>1424502315</td>\n",
       "    </tr>\n",
       "    <tr>\n",
       "      <th>7</th>\n",
       "      <td>Banking</td>\n",
       "      <td>4341912352</td>\n",
       "      <td>961924799</td>\n",
       "    </tr>\n",
       "    <tr>\n",
       "      <th>127</th>\n",
       "      <td>Telecommunications</td>\n",
       "      <td>4243041664</td>\n",
       "      <td>925623563</td>\n",
       "    </tr>\n",
       "    <tr>\n",
       "      <th>101</th>\n",
       "      <td>Pharmaceuticals</td>\n",
       "      <td>7323159940</td>\n",
       "      <td>645660609</td>\n",
       "    </tr>\n",
       "    <tr>\n",
       "      <th>93</th>\n",
       "      <td>Oil &amp; Energy</td>\n",
       "      <td>10078940736</td>\n",
       "      <td>609859377</td>\n",
       "    </tr>\n",
       "    <tr>\n",
       "      <th>65</th>\n",
       "      <td>Internet</td>\n",
       "      <td>15889193478</td>\n",
       "      <td>540464477</td>\n",
       "    </tr>\n",
       "    <tr>\n",
       "      <th>4</th>\n",
       "      <td>Automotive</td>\n",
       "      <td>4992425224</td>\n",
       "      <td>531717088</td>\n",
       "    </tr>\n",
       "    <tr>\n",
       "      <th>21</th>\n",
       "      <td>Computer Software</td>\n",
       "      <td>9387919641</td>\n",
       "      <td>490204437</td>\n",
       "    </tr>\n",
       "  </tbody>\n",
       "</table>\n",
       "</div>"
      ],
      "text/plain": [
       "                                industry  followers_count  \\\n",
       "62   Information Technology and Services      19775577695   \n",
       "40                    Financial Services      10208046449   \n",
       "119                               Retail       6762282982   \n",
       "7                                Banking       4341912352   \n",
       "127                   Telecommunications       4243041664   \n",
       "101                      Pharmaceuticals       7323159940   \n",
       "93                          Oil & Energy      10078940736   \n",
       "65                              Internet      15889193478   \n",
       "4                             Automotive       4992425224   \n",
       "21                     Computer Software       9387919641   \n",
       "\n",
       "     employees_on_platform  \n",
       "62              2383349091  \n",
       "40              1701931846  \n",
       "119             1424502315  \n",
       "7                961924799  \n",
       "127              925623563  \n",
       "101              645660609  \n",
       "93               609859377  \n",
       "65               540464477  \n",
       "4                531717088  \n",
       "21               490204437  "
      ]
     },
     "execution_count": 17,
     "metadata": {},
     "output_type": "execute_result"
    }
   ],
   "source": [
    "#Industries with the Largest Employees on Linkedin\n",
    "grouped.sort_values('employees_on_platform', ascending=False).head(10)"
   ]
  },
  {
   "cell_type": "code",
   "execution_count": 21,
   "metadata": {},
   "outputs": [],
   "source": [
    "#We select certain industries that have large amount of companies and less noisy data by visual inspection of the above plots\n",
    "#select_ind=['Pharmaceuticals','Retail','Hospital & Health Care','Banking','Information Technology and Services',\\\n",
    "#           'Internet','Semiconductors','Oil & Energy','Automotive','Consumer Goods','Mining & Metals','Chemicals','Financial Services',\\\n",
    "#           'Computer Software','Defense & Space','Airlines/Aviation']\n",
    "\n",
    "#For the purpose of this exploratory analysis, I will select only one industry\n",
    "# In my final capstone project, I intend to use all the above industries for my analysis\n",
    "plt.style.use('ggplot')\n",
    "\n",
    "select_ind=['Information Technology and Services']\n",
    "\n",
    "#Plotting only the Largest companies in terms of employees\n",
    "\n",
    "df_large_ind=pd.DataFrame()\n",
    "\n",
    "for ind in select_ind:\n",
    "    sel_ind=df_lnkd[df_lnkd.industry==ind]\n",
    "    #unq_comp=sel_ind.company_name.unique()\n",
    "    \n",
    "    grouped_comp=sel_ind.groupby('company_name').sum()['employees_on_platform'].nlargest(10)\n",
    "    largest_companies=grouped_comp.keys()\n",
    "    \n",
    "    for icomp in largest_companies:\n",
    "        sel_comp=sel_ind[sel_ind.company_name==icomp]\n",
    "        sel_comp=sel_comp.sort_values(by='as_of_date')\n",
    "        #normalize data for each company as we wish to see the growth rather than absolute numbers\n",
    "        sel_comp['followers_count']=sel_comp['followers_count']-sel_comp['followers_count'].mean()\n",
    "        sel_comp['employees_on_platform']=sel_comp['employees_on_platform']-sel_comp['employees_on_platform'].mean()\n",
    "        df_large_ind=df_large_ind.append(sel_comp)"
   ]
  },
  {
   "cell_type": "code",
   "execution_count": 22,
   "metadata": {},
   "outputs": [
    {
     "data": {
      "text/plain": [
       "(8144, 5)"
      ]
     },
     "execution_count": 22,
     "metadata": {},
     "output_type": "execute_result"
    }
   ],
   "source": [
    "df_large_ind.shape"
   ]
  },
  {
   "cell_type": "code",
   "execution_count": 23,
   "metadata": {},
   "outputs": [
    {
     "data": {
      "image/png": "[encoded data removed]",
      "text/plain": [
       "<Figure size 864x864 with 1 Axes>"
      ]
     },
     "metadata": {},
     "output_type": "display_data"
    }
   ],
   "source": [
    "#Plotting the Time series for largest companies\n",
    "\n",
    "fig=plt.figure(figsize=(12,12))\n",
    "for i,ind in enumerate(select_ind):\n",
    "    ax=fig.add_subplot(2,1,i+1)\n",
    "    sel_ind=df_large_ind[df_large_ind.industry==ind]\n",
    "\n",
    "    comps=sel_ind['company_name'].unique()\n",
    "    for icomp in comps:\n",
    "        sel_comp=sel_ind[sel_ind.company_name==icomp]\n",
    "        label=re.sub('\\W+','', icomp )\n",
    "        ax.plot(sel_comp['as_of_date'],sel_comp['followers_count'],label=label)\n",
    "        ax.legend(loc='best')\n",
    "    ax.set_title('Followers_count for '+ind)\n",
    "    \n",
    "#The number of Followers have been steadily increasing on Linkedin. This might tell us more\n",
    "# about the popularity of Linkedin itself rathern than the company's growth."
   ]
  },
  {
   "cell_type": "code",
   "execution_count": 24,
   "metadata": {},
   "outputs": [
    {
     "data": {
      "image/png": "[encoded data removed]",
      "text/plain": [
       "<Figure size 864x864 with 1 Axes>"
      ]
     },
     "metadata": {},
     "output_type": "display_data"
    }
   ],
   "source": [
    "fig=plt.figure(figsize=(12,12))\n",
    "for i,ind in enumerate(select_ind):\n",
    "    ax=fig.add_subplot(2,1,i+1)\n",
    "    sel_ind=df_large_ind[df_large_ind.industry==ind]\n",
    "    comps=sel_ind['company_name'].unique()\n",
    "\n",
    "    for icomp in comps:\n",
    "        sel_comp=sel_ind[sel_ind.company_name==icomp]\n",
    "        label=re.sub('\\W+','', icomp )\n",
    "        ax.plot(sel_comp['as_of_date'],sel_comp['employees_on_platform'],label=label)\n",
    "        ax.legend()\n",
    "    ax.set_title('Employees on Platform for '+ind)\n",
    "    \n",
    "#The number of employees however does not show a linear growth. In fact, for some\n",
    "# of the companies the employees have decreased"
   ]
  },
  {
   "cell_type": "code",
   "execution_count": 25,
   "metadata": {},
   "outputs": [],
   "source": [
    "df_stocks=pd.read_csv('all_stocks_5yr.csv')"
   ]
  },
  {
   "cell_type": "code",
   "execution_count": 26,
   "metadata": {},
   "outputs": [
    {
     "name": "stdout",
     "output_type": "stream",
     "text": [
      "AAL stock symbol\n",
      "AAPL stock symbol\n"
     ]
    },
    {
     "ename": "NoSuchWindowException",
     "evalue": "Message: no such window: target window already closed\nfrom unknown error: web view not found\n  (Session info: chrome=84.0.4147.105)\n",
     "output_type": "error",
     "traceback": [
      "\u001b[0;31m---------------------------------------------------------------------------\u001b[0m",
      "\u001b[0;31mNoSuchWindowException\u001b[0m                     Traceback (most recent call last)",
      "\u001b[0;32m<ipython-input-26-bc80be20fff5>\u001b[0m in \u001b[0;36m<module>\u001b[0;34m\u001b[0m\n\u001b[1;32m     31\u001b[0m \u001b[0;34m\u001b[0m\u001b[0m\n\u001b[1;32m     32\u001b[0m \u001b[0mstock_ticks\u001b[0m\u001b[0;34m=\u001b[0m\u001b[0mdf_stocks\u001b[0m\u001b[0;34m[\u001b[0m\u001b[0;34m'Name'\u001b[0m\u001b[0;34m]\u001b[0m\u001b[0;34m.\u001b[0m\u001b[0munique\u001b[0m\u001b[0;34m(\u001b[0m\u001b[0;34m)\u001b[0m\u001b[0;34m\u001b[0m\u001b[0;34m\u001b[0m\u001b[0m\n\u001b[0;32m---> 33\u001b[0;31m \u001b[0mscrape_stocks\u001b[0m\u001b[0;34m(\u001b[0m\u001b[0mstock_ticks\u001b[0m\u001b[0;34m)\u001b[0m\u001b[0;34m\u001b[0m\u001b[0;34m\u001b[0m\u001b[0m\n\u001b[0m",
      "\u001b[0;32m<ipython-input-26-bc80be20fff5>\u001b[0m in \u001b[0;36mscrape_stocks\u001b[0;34m(stock_ticks)\u001b[0m\n\u001b[1;32m     17\u001b[0m             \u001b[0msearch_str\u001b[0m\u001b[0;34m=\u001b[0m\u001b[0;34m\"https://www.google.com/search?q=\"\u001b[0m \u001b[0;34m+\u001b[0m \u001b[0msearch_string\u001b[0m \u001b[0;34m+\u001b[0m \u001b[0;34m\"&start=\"\u001b[0m \u001b[0;34m+\u001b[0m \u001b[0mstr\u001b[0m\u001b[0;34m(\u001b[0m\u001b[0mi\u001b[0m\u001b[0;34m)\u001b[0m\u001b[0;34m\u001b[0m\u001b[0;34m\u001b[0m\u001b[0m\n\u001b[1;32m     18\u001b[0m             \u001b[0mbrowser\u001b[0m\u001b[0;34m.\u001b[0m\u001b[0mget\u001b[0m\u001b[0;34m(\u001b[0m\u001b[0msearch_str\u001b[0m\u001b[0;34m)\u001b[0m\u001b[0;34m\u001b[0m\u001b[0;34m\u001b[0m\u001b[0m\n\u001b[0;32m---> 19\u001b[0;31m             \u001b[0mhtml_source\u001b[0m \u001b[0;34m=\u001b[0m \u001b[0mbrowser\u001b[0m\u001b[0;34m.\u001b[0m\u001b[0mpage_source\u001b[0m\u001b[0;34m\u001b[0m\u001b[0;34m\u001b[0m\u001b[0m\n\u001b[0m\u001b[1;32m     20\u001b[0m             \u001b[0msoup\u001b[0m \u001b[0;34m=\u001b[0m \u001b[0mBeautifulSoup\u001b[0m\u001b[0;34m(\u001b[0m\u001b[0mhtml_source\u001b[0m\u001b[0;34m)\u001b[0m\u001b[0;34m\u001b[0m\u001b[0;34m\u001b[0m\u001b[0m\n\u001b[1;32m     21\u001b[0m             \u001b[0mspans\u001b[0m\u001b[0;34m=\u001b[0m\u001b[0msoup\u001b[0m\u001b[0;34m.\u001b[0m\u001b[0mfind_all\u001b[0m\u001b[0;34m(\u001b[0m\u001b[0;34m'span'\u001b[0m\u001b[0;34m,\u001b[0m\u001b[0mattrs\u001b[0m\u001b[0;34m=\u001b[0m\u001b[0;34m{\u001b[0m\u001b[0;34m'class'\u001b[0m\u001b[0;34m:\u001b[0m\u001b[0;34m'vk_bk'\u001b[0m\u001b[0;34m}\u001b[0m\u001b[0;34m)\u001b[0m\u001b[0;34m\u001b[0m\u001b[0;34m\u001b[0m\u001b[0m\n",
      "\u001b[0;32m/usr/local/lib/python3.7/site-packages/selenium/webdriver/remote/webdriver.py\u001b[0m in \u001b[0;36mpage_source\u001b[0;34m(self)\u001b[0m\n\u001b[1;32m    677\u001b[0m             \u001b[0mdriver\u001b[0m\u001b[0;34m.\u001b[0m\u001b[0mpage_source\u001b[0m\u001b[0;34m\u001b[0m\u001b[0;34m\u001b[0m\u001b[0m\n\u001b[1;32m    678\u001b[0m         \"\"\"\n\u001b[0;32m--> 679\u001b[0;31m         \u001b[0;32mreturn\u001b[0m \u001b[0mself\u001b[0m\u001b[0;34m.\u001b[0m\u001b[0mexecute\u001b[0m\u001b[0;34m(\u001b[0m\u001b[0mCommand\u001b[0m\u001b[0;34m.\u001b[0m\u001b[0mGET_PAGE_SOURCE\u001b[0m\u001b[0;34m)\u001b[0m\u001b[0;34m[\u001b[0m\u001b[0;34m'value'\u001b[0m\u001b[0;34m]\u001b[0m\u001b[0;34m\u001b[0m\u001b[0;34m\u001b[0m\u001b[0m\n\u001b[0m\u001b[1;32m    680\u001b[0m \u001b[0;34m\u001b[0m\u001b[0m\n\u001b[1;32m    681\u001b[0m     \u001b[0;32mdef\u001b[0m \u001b[0mclose\u001b[0m\u001b[0;34m(\u001b[0m\u001b[0mself\u001b[0m\u001b[0;34m)\u001b[0m\u001b[0;34m:\u001b[0m\u001b[0;34m\u001b[0m\u001b[0;34m\u001b[0m\u001b[0m\n",
      "\u001b[0;32m/usr/local/lib/python3.7/site-packages/selenium/webdriver/remote/webdriver.py\u001b[0m in \u001b[0;36mexecute\u001b[0;34m(self, driver_command, params)\u001b[0m\n\u001b[1;32m    319\u001b[0m         \u001b[0mresponse\u001b[0m \u001b[0;34m=\u001b[0m \u001b[0mself\u001b[0m\u001b[0;34m.\u001b[0m\u001b[0mcommand_executor\u001b[0m\u001b[0;34m.\u001b[0m\u001b[0mexecute\u001b[0m\u001b[0;34m(\u001b[0m\u001b[0mdriver_command\u001b[0m\u001b[0;34m,\u001b[0m \u001b[0mparams\u001b[0m\u001b[0;34m)\u001b[0m\u001b[0;34m\u001b[0m\u001b[0;34m\u001b[0m\u001b[0m\n\u001b[1;32m    320\u001b[0m         \u001b[0;32mif\u001b[0m \u001b[0mresponse\u001b[0m\u001b[0;34m:\u001b[0m\u001b[0;34m\u001b[0m\u001b[0;34m\u001b[0m\u001b[0m\n\u001b[0;32m--> 321\u001b[0;31m             \u001b[0mself\u001b[0m\u001b[0;34m.\u001b[0m\u001b[0merror_handler\u001b[0m\u001b[0;34m.\u001b[0m\u001b[0mcheck_response\u001b[0m\u001b[0;34m(\u001b[0m\u001b[0mresponse\u001b[0m\u001b[0;34m)\u001b[0m\u001b[0;34m\u001b[0m\u001b[0;34m\u001b[0m\u001b[0m\n\u001b[0m\u001b[1;32m    322\u001b[0m             response['value'] = self._unwrap_value(\n\u001b[1;32m    323\u001b[0m                 response.get('value', None))\n",
      "\u001b[0;32m/usr/local/lib/python3.7/site-packages/selenium/webdriver/remote/errorhandler.py\u001b[0m in \u001b[0;36mcheck_response\u001b[0;34m(self, response)\u001b[0m\n\u001b[1;32m    240\u001b[0m                 \u001b[0malert_text\u001b[0m \u001b[0;34m=\u001b[0m \u001b[0mvalue\u001b[0m\u001b[0;34m[\u001b[0m\u001b[0;34m'alert'\u001b[0m\u001b[0;34m]\u001b[0m\u001b[0;34m.\u001b[0m\u001b[0mget\u001b[0m\u001b[0;34m(\u001b[0m\u001b[0;34m'text'\u001b[0m\u001b[0;34m)\u001b[0m\u001b[0;34m\u001b[0m\u001b[0;34m\u001b[0m\u001b[0m\n\u001b[1;32m    241\u001b[0m             \u001b[0;32mraise\u001b[0m \u001b[0mexception_class\u001b[0m\u001b[0;34m(\u001b[0m\u001b[0mmessage\u001b[0m\u001b[0;34m,\u001b[0m \u001b[0mscreen\u001b[0m\u001b[0;34m,\u001b[0m \u001b[0mstacktrace\u001b[0m\u001b[0;34m,\u001b[0m \u001b[0malert_text\u001b[0m\u001b[0;34m)\u001b[0m\u001b[0;34m\u001b[0m\u001b[0;34m\u001b[0m\u001b[0m\n\u001b[0;32m--> 242\u001b[0;31m         \u001b[0;32mraise\u001b[0m \u001b[0mexception_class\u001b[0m\u001b[0;34m(\u001b[0m\u001b[0mmessage\u001b[0m\u001b[0;34m,\u001b[0m \u001b[0mscreen\u001b[0m\u001b[0;34m,\u001b[0m \u001b[0mstacktrace\u001b[0m\u001b[0;34m)\u001b[0m\u001b[0;34m\u001b[0m\u001b[0;34m\u001b[0m\u001b[0m\n\u001b[0m\u001b[1;32m    243\u001b[0m \u001b[0;34m\u001b[0m\u001b[0m\n\u001b[1;32m    244\u001b[0m     \u001b[0;32mdef\u001b[0m \u001b[0m_value_or_default\u001b[0m\u001b[0;34m(\u001b[0m\u001b[0mself\u001b[0m\u001b[0;34m,\u001b[0m \u001b[0mobj\u001b[0m\u001b[0;34m,\u001b[0m \u001b[0mkey\u001b[0m\u001b[0;34m,\u001b[0m \u001b[0mdefault\u001b[0m\u001b[0;34m)\u001b[0m\u001b[0;34m:\u001b[0m\u001b[0;34m\u001b[0m\u001b[0;34m\u001b[0m\u001b[0m\n",
      "\u001b[0;31mNoSuchWindowException\u001b[0m: Message: no such window: target window already closed\nfrom unknown error: web view not found\n  (Session info: chrome=84.0.4147.105)\n"
     ]
    }
   ],
   "source": [
    "#scrape stock symbols\n",
    "#Please comment this if don't need to scrape again and simply load the file from the \n",
    "# next cell\n",
    "'''\n",
    "def scrape_stocks(stock_ticks):\n",
    "    options = webdriver.ChromeOptions()\n",
    "    options.add_argument('--ignore-ssl-errors=yes')\n",
    "    options.add_argument('--ignore-certificate-errors')\n",
    "    browser = webdriver.Chrome(options=options)\n",
    "    #browser.implicitly_wait(10)\n",
    "    stock_dic={}\n",
    "    for tickr in stock_ticks:\n",
    "        time.sleep(5)\n",
    "        search_string = tickr+' stock symbol'\n",
    "        print(search_string)\n",
    "        for i in range(1):\n",
    "            search_str=\"https://www.google.com/search?q=\" + search_string + \"&start=\" + str(i)\n",
    "            browser.get(search_str) \n",
    "            html_source = browser.page_source\n",
    "            soup = BeautifulSoup(html_source)\n",
    "            spans=soup.find_all('span',attrs={'class':'vk_bk'})\n",
    "            try : \n",
    "                span=spans[0]\n",
    "                stock_dic[tickr]=span.text\n",
    "            except IndexError:\n",
    "                pass\n",
    "\n",
    "    browser.quit()\n",
    "    df=pd.DataFrame([stock_dic]).T\n",
    "    df.to_csv('stock_symbols_file.csv')\n",
    "\n",
    "stock_ticks=df_stocks['Name'].unique()    \n",
    "scrape_stocks(stock_ticks)\n",
    "'''"
   ]
  },
  {
   "cell_type": "code",
   "execution_count": 29,
   "metadata": {},
   "outputs": [
    {
     "data": {
      "text/plain": [
       "Index(['date', 'open', 'high', 'low', 'close', 'volume', 'Name'], dtype='object')"
      ]
     },
     "execution_count": 29,
     "metadata": {},
     "output_type": "execute_result"
    }
   ],
   "source": [
    "df_stocks.columns"
   ]
  },
  {
   "cell_type": "code",
   "execution_count": 35,
   "metadata": {},
   "outputs": [],
   "source": [
    "df_stocks['date']=pd.to_datetime(df_stocks['date'])"
   ]
  },
  {
   "cell_type": "code",
   "execution_count": 41,
   "metadata": {},
   "outputs": [
    {
     "data": {
      "image/png": "[encoded data removed]",
      "text/plain": [
       "<Figure size 720x576 with 1 Axes>"
      ]
     },
     "metadata": {},
     "output_type": "display_data"
    }
   ],
   "source": [
    "fig=plt.figure(figsize=(10,8))\n",
    "ax=fig.add_subplot(111)\n",
    "unq_sym=df_stocks['Name'].unique()\n",
    "#Looking at Time series for\n",
    "for sym in unq_sym[:1]:\n",
    "    df_sel=df_stocks[df_stocks['Name']==sym]\n",
    "    df_sel=df_sel.sort_values(by='date')\n",
    "    ax.plot(df_sel['date'],df_sel['open'],label='Open')\n",
    "    ax.plot(df_sel['date'],df_sel['high'],label='High')\n",
    "    ax.plot(df_sel['date'],df_sel['close'],label='Close')\n",
    "    ax.plot(df_sel['date'],df_sel['low'],label='Low')\n",
    "    ax.plot(df_sel['date'],df_sel['low'],label='Low')\n",
    "    ax.legend(loc='best')"
   ]
  },
  {
   "cell_type": "code",
   "execution_count": null,
   "metadata": {
    "scrolled": true
   },
   "outputs": [],
   "source": [
    "# Finding the Unique stock Names\n",
    "df_stocks['Name'].unique()\n",
    "df_stocks_names=pd.read_csv('stock_symbols_file.csv')\n",
    "comp_stocks_full_names=df_stocks_names[u'0'].values\n",
    "comp_lnkd_full_names=df_lnkd['company_name'].unique()"
   ]
  },
  {
   "cell_type": "code",
   "execution_count": null,
   "metadata": {},
   "outputs": [],
   "source": [
    "#Linking the full company names with the stock symbols and finding the companies in the S&P index dataset"
   ]
  },
  {
   "cell_type": "code",
   "execution_count": null,
   "metadata": {},
   "outputs": [],
   "source": [
    "def format_comp_name(comp_name):\n",
    "    comp_name=comp_name.lower()\n",
    "    comp_name=re.sub('inc','', comp_name)\n",
    "    comp_name=re.sub('corporation','', comp_name)\n",
    "    comp_name=re.sub('corp','', comp_name)\n",
    "    comp_name=re.sub('\\W+','', comp_name)\n",
    "    return comp_name"
   ]
  },
  {
   "cell_type": "code",
   "execution_count": null,
   "metadata": {},
   "outputs": [],
   "source": [
    "df_lnkd['company_name_format']=df_lnkd['company_name'].apply(format_comp_name)\n",
    "comp_stocks_full_names_format=[format_comp_name(icomp) for icomp in comp_stocks_full_names]"
   ]
  },
  {
   "cell_type": "code",
   "execution_count": null,
   "metadata": {
    "scrolled": true
   },
   "outputs": [],
   "source": [
    "#Finding common companies between the stocks dataframe and the linkedin dataframe\n",
    "\n",
    "df_select=pd.DataFrame()\n",
    "for icomp in comp_stocks_full_names_format:\n",
    "    row_select=df_lnkd[df_lnkd['company_name_format']==icomp]\n",
    "    df_select=df_select.append(row_select)"
   ]
  },
  {
   "cell_type": "code",
   "execution_count": null,
   "metadata": {},
   "outputs": [],
   "source": [
    "df_select.shape"
   ]
  },
  {
   "cell_type": "code",
   "execution_count": null,
   "metadata": {},
   "outputs": [],
   "source": [
    "df_select.head()"
   ]
  },
  {
   "cell_type": "code",
   "execution_count": null,
   "metadata": {},
   "outputs": [],
   "source": [
    "common_companies=df_select.company_name.unique()"
   ]
  },
  {
   "cell_type": "code",
   "execution_count": null,
   "metadata": {},
   "outputs": [],
   "source": [
    "df_select.to_csv('df_common.csv')"
   ]
  },
  {
   "cell_type": "code",
   "execution_count": null,
   "metadata": {},
   "outputs": [],
   "source": [
    "#Downloading the names of the CEOs of S&P 500 companies\n",
    "def download_company_ceo(company_names):\n",
    "    options = webdriver.ChromeOptions()\n",
    "    options.add_argument('--ignore-ssl-errors=yes')\n",
    "    options.add_argument('--ignore-certificate-errors')\n",
    "    browser = webdriver.Chrome(options=options)\n",
    "    twitter_ceo={}\n",
    "    twitter_handle={}\n",
    "    for scomp in company_names[-6:-4]:\n",
    "        time.sleep(5)\n",
    "        search_string = 'CEO of '+ scomp\n",
    "        print(search_string)\n",
    "        for i in range(1):\n",
    "            search_str=\"https://www.google.com/search?q=\" + search_string + \"&start=\" + str(i)\n",
    "            browser.get(search_str) \n",
    "            html_source = browser.page_source\n",
    "            soup = BeautifulSoup(html_source)\n",
    "            spans=soup.find_all('a',attrs={'class':'FLP8od'})\n",
    "            try :\n",
    "                span=spans[0]\n",
    "                ceo_name=span.text\n",
    "                time.sleep(5)\n",
    "                search_string = ceo_name+' twitter'\n",
    "                search_str=\"https://www.google.com/search?q=\" + search_string + \"&start=\" + str(i)\n",
    "                browser.get(search_str) \n",
    "                html_source = browser.page_source\n",
    "                soup = BeautifulSoup(html_source)\n",
    "                ipdb.set_trace()\n",
    "                #spans=soup.find_all('h3',attrs={'class':'LC20lb DKV0Md'})\n",
    "                #spans=soup.find_all('a',attrs={'class':'r'})\n",
    "                spans=soup.find_all('cite',attrs={'class':'ellip D5gSDf bwSSse iUh30'})\n",
    "                tt=spans[0].text\n",
    "                twitter_handle=tt[tt.find(\"(\")+1:tt.find(\")\")]\n",
    "                twitter_handle=re.sub('@','',twitter_handle)\n",
    "                twitter_ceo[scomp]=ceo_name\n",
    "                twitter_handle[scomp]=twitter_handle\n",
    "            except: \n",
    "                pass\n",
    "    browser.quit()\n",
    "    df_twitter=pd.DataFrame([twitter_dic]).T\n",
    "    df_twitter.to_csv('ceo_twitter_handles.csv')\n",
    "\n",
    "#Get Names of the companies\n",
    "df_select=pd.read_csv('df_common.csv')\n",
    "company_names=df_select['company_name'].unique()\n",
    "download_company_ceo(company_names)"
   ]
  },
  {
   "cell_type": "code",
   "execution_count": null,
   "metadata": {},
   "outputs": [],
   "source": [
    "#Download tweets of the S&P 500 CEOs\n",
    "#Some of them don't have twitter accounts, so I have manually deleted some of the wrong downloads\n",
    "# I use the package available at https://github.com/marquisvictor/Optimized-Modified-GetOldTweets3-OMGOT/blob/master/GetOldTweets3-0.0.10/GetOldTweets3.py\n",
    "df_handles=pd.read_csv('ceo_twitter_handles.csv')\n",
    "vals=df_handles['0'].values\n",
    "handles=[]\n",
    "#valid_handle=[]\n",
    "for val in vals:\n",
    "    bb=val.split(',')[1]\n",
    "    hh=re.sub('\\W+','',bb)\n",
    "    handles.append(hh)\n",
    "    \n",
    "for hh in handles:\n",
    "    if not(os.path.exists(hh)):\n",
    "        os.makedirs(hh)\n",
    "    os.chdir(hh)\n",
    "    ! ../GetOldTweets3.py --username $hh --since 2015-01-01 --until 2019-01-01\n",
    "    os.chdir('../')"
   ]
  },
  {
   "cell_type": "code",
   "execution_count": null,
   "metadata": {},
   "outputs": [],
   "source": [
    "def clean_tweet(tweet):\n",
    "    tweet = tweet.lower()\n",
    "    regs = [\n",
    "        r'(\\/\\/www[^\\s]+)',\n",
    "        r'(pic.twitter.com\\/[^\\s]+)',\n",
    "        r'(@[A-Za-z0-9]+)|([^0-9A-Za-z \\t])|(\\w+:\\/\\/\\S+)',\n",
    "        r'(?i)\\b((?:https?:\\/\\/[^\\s]+))',\n",
    "        r'https'\n",
    "    ]\n",
    "    prev = tweet\n",
    "    for reg in regs:\n",
    "        prev = re.sub(reg, \" \", prev)\n",
    "    return prev\n",
    "\n",
    "def get_tweets_list(account):\n",
    "    tweets = []\n",
    "    path='/Users/garima/'\n",
    "    with open(f'{path}tweet_folders/{account}/output_got.csv') as csv_file:\n",
    "        csv_reader = csv.reader(csv_file, delimiter=',')\n",
    "        keys = next(csv_reader)\n",
    "        for row in csv_reader:\n",
    "            tweet = {}\n",
    "            tweet[keys[0]] = row[0]\n",
    "            tweet[keys[1]] = row[1]\n",
    "            tweet[keys[6]] = clean_tweet(row[6])\n",
    "            tweets.append(tweet)\n",
    "    return tweets\n",
    "\n",
    "def get_tweets(username):\n",
    "    l = get_tweets_list(username)\n",
    "    l.reverse()\n",
    "    return l\n",
    "\n",
    "def generate_wordcloud(tweets):\n",
    "    '''Generates a WordCloud from a list of tweets'''\n",
    "    tweets_con = ''\n",
    "    for t in tweets:\n",
    "        tweets_con += t['text']\n",
    "    return WordCloud(background_color='white', width=1000, height=600).generate(tweets_con)\n",
    "\n",
    "def plot_wordcloud(wc, title):\n",
    "    '''Plots a given wordcloud and saves locally in the preferred style'''\n",
    "    plt.title(title, fontsize=14)\n",
    "    plt.imshow(wc, interpolation='bilinear')\n",
    "    plt.axis('off')"
   ]
  },
  {
   "cell_type": "code",
   "execution_count": null,
   "metadata": {},
   "outputs": [],
   "source": [
    "#Loading the tweets of only Donald Trump and Tim Cook for this EDA\n",
    "for ceo_handle in folders:\n",
    "    tweets=get_tweets_list(ceo_handle)\n",
    "    tweets.reverse()\n",
    "    wc=generate_wordcloud(tweets)\n",
    "    plot_wordcloud(wc,f'@{ceo_handle}Keywords')"
   ]
  },
  {
   "cell_type": "code",
   "execution_count": null,
   "metadata": {},
   "outputs": [],
   "source": [
    "polarity_dic={}\n",
    "subj_dic={}\n",
    "def calc_sentiment(tweets):\n",
    "    pol = []\n",
    "    sub = []\n",
    "    time = []\n",
    "    for tweet in tweets:\n",
    "        ss = TextBlob(tweet['text']).sentiment\n",
    "        date = tweet['date'].split(' ')[0]\n",
    "        date=dt.datetime.strptime(date,'%Y-%m-%d')\n",
    "        polarity_dic[date]=ss[0]\n",
    "        subj_dic[date]=ss[1]\n",
    "    return (polarity_dic,subj_dic)"
   ]
  },
  {
   "cell_type": "code",
   "execution_count": null,
   "metadata": {},
   "outputs": [],
   "source": [
    "for ceo_handle in folders:\n",
    "    tweets=get_tweets_list(ceo_handle)\n",
    "    tweets.reverse()\n",
    "    polarity_dic,subj_dic=calc_sentiment(tweets)\n",
    "    df=pd.DataFrame([polarity_dic]).T\n",
    "    df.to_csv(ceo_handle+'_polarity.csv')\n",
    "    df=pd.DataFrame([subj_dic]).T\n",
    "    df.to_csv(ceo_handle+'_subjectivity.csv')"
   ]
  },
  {
   "cell_type": "code",
   "execution_count": null,
   "metadata": {},
   "outputs": [],
   "source": [
    "#Loading the Tweet sentiments for only two people in this notebook\n",
    "\n",
    "#To understand the influence of political environment on stocks\n",
    "df_trump=pd.read_csv('realDonaldTrump_polarity.csv')\n",
    "\n",
    "#To understand the influence of CEO's sentiments on stocks\n",
    "df_tim=pd.read_csv('tim_cook_polarity.csv')"
   ]
  },
  {
   "cell_type": "code",
   "execution_count": null,
   "metadata": {
    "scrolled": true
   },
   "outputs": [],
   "source": [
    "output_notebook()\n",
    "def bkapp(doc):\n",
    "    TOOLS = 'crosshair,save,pan,box_zoom,reset,wheel_zoom'\n",
    "    p = figure(title=\"Employees on Linkedin through Time\", y_axis_type=\"log\",x_axis_type='datetime', tools = TOOLS)\n",
    "\n",
    "    #sample df_comp\n",
    "    df_comp=df_select[df_select['company_name']=='Apple']\n",
    "    df_comp=df_comp.sort_values(by='as_of_date')\n",
    "\n",
    "    source = ColumnDataSource(data={'x': df_comp['as_of_date'], 'y': df_comp['employees_on_platform']})\n",
    "    source2 = ColumnDataSource(data={'x': df_comp['as_of_date'], 'y': df_comp['followers_count']})\n",
    "\n",
    "    #p.line(df_comp['as_of_date'], df_comp['employees_on_platform'], legend=icomp, line_color=\"purple\", line_width = 3)\n",
    "    p.line(x='x',y='y',source=source,line_width=3,line_color=\"#f46d43\",legend='Employees')\n",
    "    p.line(x='x',y='y',source=source2,line_width=3,line_color=\"blue\",line_alpha=0.3,legend='Followers')\n",
    "    \n",
    "    p.add_tools(HoverTool(show_arrow=False, line_policy='next', tooltips=\\\n",
    "                          [('Date', '@x{%F}'),('Employees', '@y')],\\\n",
    "                         formatters={'@x': 'datetime'}))\n",
    "    p.plot_width =800\n",
    "\n",
    "    def callback(attr, old, new):\n",
    "        df_comp=df_select[df_select['company_name']==new]\n",
    "        df_comp=df_comp.sort_values(by='as_of_date')\n",
    "        y_val=df_comp['employees_on_platform']\n",
    "        y_val2=df_comp['followers_count']\n",
    "        df_new=pd.DataFrame({'x':df_comp['as_of_date'],'y':y_val})\n",
    "        df_new2=pd.DataFrame({'x':df_comp['as_of_date'],'y':y_val2})\n",
    "        source.data=ColumnDataSource.from_df(df_new)\n",
    "        source2.data=ColumnDataSource.from_df(df_new2)\n",
    "\n",
    "    menu= Select(options=list(common_companies), value='Apple', title='Distribution')\n",
    "    menu.on_change('value', callback) \n",
    " \n",
    "    doc.add_root(column(menu, p))\n",
    "    doc.theme = Theme(json=yaml.load(\"\"\"\n",
    "        attrs:\n",
    "            Figure:\n",
    "                background_fill_color: \"#DDDDDD\"\n",
    "                outline_line_color: white\n",
    "                toolbar_location: above\n",
    "                height: 500\n",
    "                width: 800\n",
    "            Grid:\n",
    "                grid_line_dash: [6, 4]\n",
    "                grid_line_color: white\n",
    "    \"\"\", Loader=yaml.FullLoader))\n",
    "    \n",
    "show(bkapp)"
   ]
  },
  {
   "cell_type": "code",
   "execution_count": null,
   "metadata": {},
   "outputs": [],
   "source": [
    "output_notebook()\n",
    "def bkapp(doc):\n",
    "    TOOLS = 'crosshair,save,pan,box_zoom,reset,wheel_zoom'\n",
    "    p = figure(title=\"Stocks through Time\", y_axis_type=\"linear\",x_axis_type='datetime', tools = TOOLS)\n",
    "\n",
    "    #sample df_comp\n",
    "    df_comp=df_select[df_select['company_name']=='Apple']\n",
    "    df_comp=df_comp.sort_values(by='as_of_date')\n",
    "\n",
    "    source = ColumnDataSource(data={'x': df_comp['as_of_date'], 'y': df_comp['employees_on_platform']})\n",
    "    source2 = ColumnDataSource(data={'x': df_comp['as_of_date'], 'y': df_comp['followers_count']})\n",
    "\n",
    "    #p.line(df_comp['as_of_date'], df_comp['employees_on_platform'], legend=icomp, line_color=\"purple\", line_width = 3)\n",
    "    p.line(x='x',y='y',source=source,line_width=3,line_color=\"#f46d43\",legend='Employees')\n",
    "    p.line(x='x',y='y',source=source2,line_width=3,line_color=\"blue\",line_alpha=0.3,legend='Followers')\n",
    "    \n",
    "    p.add_tools(HoverTool(show_arrow=True, line_policy='next', tooltips=\\\n",
    "                          [('Date', '@as_of_date{%F}'),('Employees', '@employees_on_platform{%F}')],\\\n",
    "                         formatters={'@DateTime': 'datetime'}))\n",
    "    p.plot_width =800\n",
    "\n",
    "    def callback(attr, old, new):\n",
    "        df_comp=df_select[df_select['company_name']==new]\n",
    "        df_comp=df_comp.sort_values(by='as_of_date')\n",
    "        y_val=df_comp['employees_on_platform']\n",
    "        y_val2=df_comp['followers_count']\n",
    "        df_new=pd.DataFrame({'x':df_comp['as_of_date'],'y':y_val})\n",
    "        df_new2=pd.DataFrame({'x':df_comp['as_of_date'],'y':y_val2})\n",
    "        source.data=ColumnDataSource.from_df(df_new)\n",
    "        source2.data=ColumnDataSource.from_df(df_new2)\n",
    "\n",
    "    menu= Select(options=list(common_companies), value='Apple', title='Distribution')\n",
    "    menu.on_change('value', callback) \n",
    " \n",
    "    doc.add_root(column(menu, p))\n",
    "    doc.theme = Theme(json=yaml.load(\"\"\"\n",
    "        attrs:\n",
    "            Figure:\n",
    "                background_fill_color: \"#DDDDDD\"\n",
    "                outline_line_color: white\n",
    "                toolbar_location: above\n",
    "                height: 500\n",
    "                width: 800\n",
    "            Grid:\n",
    "                grid_line_dash: [6, 4]\n",
    "                grid_line_color: white\n",
    "    \"\"\", Loader=yaml.FullLoader))\n",
    "    \n",
    "show(bkapp)"
   ]
  },
  {
   "cell_type": "code",
   "execution_count": null,
   "metadata": {},
   "outputs": [],
   "source": [
    "#Finding the tweets of leaders of these companies and analyzing their sentiments\n",
    "# glassdoor reviews - long term, weather - short term\n",
    "#df_sentiments=pd.load_csv()"
   ]
  }
 ],
 "metadata": {
  "kernelspec": {
   "display_name": "Python 3",
   "language": "python",
   "name": "python3"
  },
  "language_info": {
   "codemirror_mode": {
    "name": "ipython",
    "version": 3
   },
   "file_extension": ".py",
   "mimetype": "text/x-python",
   "name": "python",
   "nbconvert_exporter": "python",
   "pygments_lexer": "ipython3",
   "version": "3.7.3"
  }
 },
 "nbformat": 4,
 "nbformat_minor": 2
}
